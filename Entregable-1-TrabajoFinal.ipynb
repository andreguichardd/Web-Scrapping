{
 "cells": [
  {
   "cell_type": "markdown",
   "id": "dcbfa81c",
   "metadata": {},
   "source": [
    "## Web scraping exercise\n",
    "\n",
    "Define a generic function `SOS_help` which retrieves help results from Stack Overflow Stunning results. <br>\n",
    "\n",
    "The following command works just fine:"
   ]
  },
  {
   "cell_type": "code",
   "execution_count": 1,
   "id": "a2298aae",
   "metadata": {},
   "outputs": [
    {
     "data": {
      "text/plain": [
       "array([ 0.61590753,  0.14158613, -0.76260855,  0.53990772,  0.88834516,\n",
       "        0.84400706,  0.59603176,  0.25077865,  0.06102709,  0.99374744,\n",
       "        0.44648063,  0.76322656, -0.30614713, -0.46451656, -0.59000987,\n",
       "       -0.03238222, -0.52544182, -0.43349946, -0.82023157,  0.78536097,\n",
       "       -0.10252196,  0.094392  , -0.46145487,  0.65258272,  0.64998764,\n",
       "       -0.64480975,  0.64532699, -0.96084514, -0.19575657,  0.27306434,\n",
       "        0.7158938 ,  0.62603455, -0.80509504,  0.7275726 ,  0.89931797,\n",
       "        0.61197261, -0.11278499,  0.1251901 , -0.33075617,  0.19402521,\n",
       "       -0.68854331, -0.6613958 , -0.98565663,  0.28823356,  0.56491052,\n",
       "       -0.39506656, -0.68121918,  0.11835567,  0.00230762,  0.66058893,\n",
       "        0.88214555,  0.91140877, -0.6007462 , -0.79128155, -0.67518851,\n",
       "        0.49243298,  0.35480781, -0.49315301,  0.37329863,  0.08505701,\n",
       "        0.79770781,  0.42139768,  0.58243062,  0.57724837,  0.41255051,\n",
       "       -0.39595726, -0.1731611 , -0.29412151,  0.03644886,  0.99981589,\n",
       "       -0.43449942, -0.8425382 ,  0.38170212,  0.45690878,  0.70042596,\n",
       "       -0.7996079 ,  0.22223949, -0.40090526, -0.74162312, -0.0995089 ,\n",
       "       -0.03038618, -0.13090394,  0.58568488, -0.02416532, -0.74476761,\n",
       "        0.39882789,  0.31571296,  0.22534558,  0.12333223, -0.99729808,\n",
       "       -0.34734382, -0.06336652, -0.7527768 , -0.0037484 ,  0.93071742,\n",
       "        0.1844334 , -0.40504645,  0.17017661,  0.75649436, -0.41226638])"
      ]
     },
     "execution_count": 1,
     "metadata": {},
     "output_type": "execute_result"
    }
   ],
   "source": [
    "import numpy as np\n",
    "np.random.uniform(-1, 1, size=100)"
   ]
  },
  {
   "cell_type": "markdown",
   "id": "f9424932",
   "metadata": {},
   "source": [
    "`print_out` prints command execution"
   ]
  },
  {
   "cell_type": "code",
   "execution_count": 2,
   "id": "8a3e0ebd",
   "metadata": {},
   "outputs": [],
   "source": [
    "def print_output(command):\n",
    "    command = 'print(' + command + ')'\n",
    "    return exec(command)"
   ]
  },
  {
   "cell_type": "code",
   "execution_count": 3,
   "id": "5f7f3d9d",
   "metadata": {},
   "outputs": [
    {
     "name": "stdout",
     "output_type": "stream",
     "text": [
      "[ 0.67851696 -0.41366013 -0.67041448 -0.09952652  0.69105194 -0.27498111\n",
      "  0.22401976  0.38176598 -0.24854912 -0.33379205  0.19881335  0.12306302\n",
      " -0.81523361 -0.87227514  0.57886575  0.66247533  0.21544853 -0.06472237\n",
      " -0.82049401 -0.04678878 -0.27892275 -0.95164883  0.14297036 -0.48741275\n",
      " -0.43950043  0.61358327  0.88299997  0.10799238  0.60325754  0.4249093\n",
      " -0.61067978 -0.54785296 -0.80017407  0.51947824  0.94903312 -0.502203\n",
      " -0.0129823  -0.73277691  0.32050443  0.25641436 -0.79211371 -0.64289175\n",
      " -0.92209283  0.01215809  0.26640096  0.9711617  -0.17732478  0.9494235\n",
      " -0.37971919 -0.14163652  0.00375624 -0.46197103  0.5900654  -0.4824272\n",
      "  0.5081735   0.59633756  0.64472727 -0.31582234 -0.56955454 -0.42182278\n",
      "  0.14138488  0.50118752  0.95021574  0.66554905  0.58475307  0.35781232\n",
      "  0.09140167 -0.9945173   0.26207947  0.31563091 -0.59361593 -0.99841391\n",
      " -0.68916954 -0.51521515  0.32102298 -0.53908079 -0.13365264  0.8092626\n",
      " -0.81407033  0.05986704 -0.84244909 -0.95114278  0.83951042  0.76287918\n",
      "  0.00989927  0.0091452   0.60686888 -0.39249607 -0.52344888  0.54021282\n",
      "  0.62935401  0.48817141  0.22728429 -0.44890827 -0.04339536  0.13682313\n",
      " -0.008076    0.20461845  0.12021126 -0.11609057]\n"
     ]
    }
   ],
   "source": [
    "print_output(command = 'np.random.uniform(-1, 1, size=100)')"
   ]
  },
  {
   "cell_type": "markdown",
   "id": "96d52b22",
   "metadata": {},
   "source": [
    "if `print_out` results in an error, this is printed"
   ]
  },
  {
   "cell_type": "code",
   "execution_count": 4,
   "id": "117a7507",
   "metadata": {},
   "outputs": [
    {
     "ename": "NameError",
     "evalue": "name 'nn' is not defined",
     "output_type": "error",
     "traceback": [
      "\u001b[0;31m---------------------------------------------------------------------------\u001b[0m",
      "\u001b[0;31mNameError\u001b[0m                                 Traceback (most recent call last)",
      "Cell \u001b[0;32mIn[4], line 1\u001b[0m\n\u001b[0;32m----> 1\u001b[0m \u001b[43mprint_output\u001b[49m\u001b[43m(\u001b[49m\u001b[43mcommand\u001b[49m\u001b[43m \u001b[49m\u001b[38;5;241;43m=\u001b[39;49m\u001b[43m \u001b[49m\u001b[38;5;124;43m'\u001b[39;49m\u001b[38;5;124;43mnn.random.uniform(-1, 1, size=100)\u001b[39;49m\u001b[38;5;124;43m'\u001b[39;49m\u001b[43m)\u001b[49m\n",
      "Cell \u001b[0;32mIn[2], line 3\u001b[0m, in \u001b[0;36mprint_output\u001b[0;34m(command)\u001b[0m\n\u001b[1;32m      1\u001b[0m \u001b[38;5;28;01mdef\u001b[39;00m \u001b[38;5;21mprint_output\u001b[39m(command):\n\u001b[1;32m      2\u001b[0m     command \u001b[38;5;241m=\u001b[39m \u001b[38;5;124m'\u001b[39m\u001b[38;5;124mprint(\u001b[39m\u001b[38;5;124m'\u001b[39m \u001b[38;5;241m+\u001b[39m command \u001b[38;5;241m+\u001b[39m \u001b[38;5;124m'\u001b[39m\u001b[38;5;124m)\u001b[39m\u001b[38;5;124m'\u001b[39m\n\u001b[0;32m----> 3\u001b[0m     \u001b[38;5;28;01mreturn\u001b[39;00m \u001b[43mexec\u001b[49m\u001b[43m(\u001b[49m\u001b[43mcommand\u001b[49m\u001b[43m)\u001b[49m\n",
      "File \u001b[0;32m<string>:1\u001b[0m\n",
      "\u001b[0;31mNameError\u001b[0m: name 'nn' is not defined"
     ]
    }
   ],
   "source": [
    "print_output(command = 'nn.random.uniform(-1, 1, size=100)')"
   ]
  },
  {
   "cell_type": "code",
   "execution_count": 5,
   "id": "5cafc219",
   "metadata": {},
   "outputs": [
    {
     "ename": "TypeError",
     "evalue": "uniform() got an unexpected keyword argument 'siz'",
     "output_type": "error",
     "traceback": [
      "\u001b[0;31m---------------------------------------------------------------------------\u001b[0m",
      "\u001b[0;31mTypeError\u001b[0m                                 Traceback (most recent call last)",
      "Cell \u001b[0;32mIn[5], line 1\u001b[0m\n\u001b[0;32m----> 1\u001b[0m \u001b[43mprint_output\u001b[49m\u001b[43m(\u001b[49m\u001b[43mcommand\u001b[49m\u001b[43m \u001b[49m\u001b[38;5;241;43m=\u001b[39;49m\u001b[43m \u001b[49m\u001b[38;5;124;43m'\u001b[39;49m\u001b[38;5;124;43mnp.random.uniform(-1, 1, siz=100)\u001b[39;49m\u001b[38;5;124;43m'\u001b[39;49m\u001b[43m)\u001b[49m\n",
      "Cell \u001b[0;32mIn[2], line 3\u001b[0m, in \u001b[0;36mprint_output\u001b[0;34m(command)\u001b[0m\n\u001b[1;32m      1\u001b[0m \u001b[38;5;28;01mdef\u001b[39;00m \u001b[38;5;21mprint_output\u001b[39m(command):\n\u001b[1;32m      2\u001b[0m     command \u001b[38;5;241m=\u001b[39m \u001b[38;5;124m'\u001b[39m\u001b[38;5;124mprint(\u001b[39m\u001b[38;5;124m'\u001b[39m \u001b[38;5;241m+\u001b[39m command \u001b[38;5;241m+\u001b[39m \u001b[38;5;124m'\u001b[39m\u001b[38;5;124m)\u001b[39m\u001b[38;5;124m'\u001b[39m\n\u001b[0;32m----> 3\u001b[0m     \u001b[38;5;28;01mreturn\u001b[39;00m \u001b[43mexec\u001b[49m\u001b[43m(\u001b[49m\u001b[43mcommand\u001b[49m\u001b[43m)\u001b[49m\n",
      "File \u001b[0;32m<string>:1\u001b[0m\n",
      "File \u001b[0;32mnumpy/random/mtrand.pyx:1050\u001b[0m, in \u001b[0;36mnumpy.random.mtrand.RandomState.uniform\u001b[0;34m()\u001b[0m\n",
      "\u001b[0;31mTypeError\u001b[0m: uniform() got an unexpected keyword argument 'siz'"
     ]
    }
   ],
   "source": [
    "print_output(command = 'np.random.uniform(-1, 1, siz=100)')"
   ]
  },
  {
   "cell_type": "markdown",
   "id": "5ff1b416",
   "metadata": {},
   "source": [
    "Create a function `get_SOS_help` which: <br>\n",
    "    - Prints \"works as intended\" if no error. <br>\n",
    "    - Prints the first link from stack overflow related to the error. As an example: <br>\n",
    "        `print_output(command = 'np.random.uniform(-1, 1, siz=100)'`\n",
    "        should retrieve the following link:\n",
    "        https://stackoverflow.com/questions/72537485/typeerror-uniform-got-an-unexpected-keyword-argument-low-size <br>\n",
    "    - Prints the most voted help\n",
    "    - Opens a new browser using the link"
   ]
  },
  {
   "cell_type": "code",
   "execution_count": 6,
   "id": "d64c80fd-babe-4a65-b385-96b49e0f5cf6",
   "metadata": {},
   "outputs": [
    {
     "name": "stderr",
     "output_type": "stream",
     "text": [
      "/var/folders/kx/ttlm9tqs63z73zxt8n3pptvm0000gn/T/ipykernel_55045/935889426.py:7: DeprecationWarning: \n",
      "Pyarrow will become a required dependency of pandas in the next major release of pandas (pandas 3.0),\n",
      "(to allow more performant data types, such as the Arrow string type, and better interoperability with other libraries)\n",
      "but was not found to be installed on your system.\n",
      "If this would cause problems for you,\n",
      "please provide us feedback at https://github.com/pandas-dev/pandas/issues/54466\n",
      "        \n",
      "  import pandas as pd\n"
     ]
    }
   ],
   "source": [
    "#Import all the necessary libraries\n",
    "import time\n",
    "import os\n",
    "import time\n",
    "import requests\n",
    "from pprint import pprint\n",
    "from bs4 import BeautifulSoup\n",
    "import pandas as pd\n",
    "\n",
    "import json\n",
    "from lxml import html\n",
    "import re\n",
    "import csv\n",
    "import numpy as np\n",
    "\n",
    "from selenium import webdriver\n",
    "from selenium.webdriver.common.action_chains import ActionChains\n",
    "from selenium.webdriver.remote.webelement import WebElement\n",
    "from selenium.webdriver.common.by import By\n",
    "from selenium.webdriver.common.keys import Keys\n",
    "from selenium.webdriver.support import expected_conditions as EC\n",
    "from selenium.webdriver.support.ui import WebDriverWait\n",
    "from selenium.webdriver.chrome.options import Options\n",
    "from selenium.common.exceptions import (\n",
    "    NoSuchElementException,\n",
    "    TimeoutException,\n",
    "    WebDriverException,\n",
    "    )\n",
    "from selenium import webdriver\n",
    "from selenium.webdriver.chrome.service import Service\n",
    "from selenium.webdriver.chrome.options import Options\n",
    "from webdriver_manager.chrome import ChromeDriverManager"
   ]
  },
  {
   "cell_type": "markdown",
   "id": "a2dae86a",
   "metadata": {},
   "source": [
    "## Create a malfunctioning code and use this function on it"
   ]
  },
  {
   "cell_type": "code",
   "execution_count": 7,
   "id": "3b4f0925",
   "metadata": {},
   "outputs": [],
   "source": [
    "# Define the fuction to find the error \n",
    "def get_SOS_help(command):\n",
    "    try:\n",
    "        exec(command)\n",
    "        print(\"works as intended\")\n",
    "    except Exception as e:\n",
    "        search_query = None\n",
    "        error_message = None\n",
    "        error_message = str(e)\n",
    "        search_query = type(e).__name__\n",
    "        error_total = error_message + ': ' + search_query\n",
    "        print(error_total)\n",
    "        \n",
    "        # Setup Chrome with Selenium\n",
    "        service = Service(ChromeDriverManager().install())\n",
    "        driver = webdriver.Chrome(service=service)\n",
    "        driver.wait = WebDriverWait(driver, 15)\n",
    "\n",
    "\n",
    "        # Go to Stackoverflow\n",
    "        url =\"https://stackoverflow.com/\"\n",
    "        driver.get(url)\n",
    "\n",
    "        # Consent Cookies\n",
    "        button= WebDriverWait(driver, 25).until(\n",
    "            EC.presence_of_element_located((By.ID, 'onetrust-accept-btn-handler')))\n",
    "        button.click()\n",
    "\n",
    "        # Consent Cookies\n",
    "        button= WebDriverWait(driver, 25).until(\n",
    "            EC.presence_of_element_located((By.ID, 'onetrust-accept-btn-handler')))\n",
    "        button.click()\n",
    "        \n",
    "\n",
    "        # We proceed to paste the error in the search bar of Stackoverflow\n",
    "        search_query_input = WebDriverWait(driver, 25).until(\n",
    "        EC.presence_of_element_located((By.NAME, \"q\"))\n",
    "        )\n",
    "\n",
    "        # Clearing the search box before entering the query\n",
    "        search_query_input.clear()\n",
    "        search_query_input.send_keys(error_total)\n",
    "\n",
    "        #Look for the answer by pressing Enter\n",
    "        search_query_input.submit()\n",
    "\n",
    "        #Waiting the page to load\n",
    "        WebDriverWait(driver,10).until(EC.title_contains('Stack Overflow'))\n",
    "\n",
    "        #Most voted option\n",
    "        dopdown_menu = driver.find_element(By.CSS_SELECTOR, \"nav.d-flex.ps-relative\")\n",
    "        dopdown_menu.click()\n",
    "\n",
    "        #Selecting most voted from the dropdown menu\n",
    "        most_voted_filter = driver.find_element(By.CSS_SELECTOR, '[title=\"Highest scored search results\"]')\n",
    "        most_voted_filter.click()\n",
    "\n",
    "        #Select the first link (most voted)\n",
    "        first_link = driver.find_element(By.CLASS_NAME, 's-post-summary--content-title')\n",
    "        first_link_1 = first_link.find_element(By.CLASS_NAME, 's-link')\n",
    "        first_link_1.click()\n",
    "\n",
    "        #Write down the answer to the user\n",
    "        answer_text = driver.find_element(By.CLASS_NAME, 'answercell.post-layout--right')\n",
    "        answer_text_2 = answer_text.find_element(By.CLASS_NAME, 's-prose.js-post-body')\n",
    "        print(answer_text_2.text)\n",
    "\n",
    "        #We take the URL\n",
    "        url = driver.current_url\n",
    "        print('\\n The source from this answer is: ', url)\n",
    "\n",
    "    return\n"
   ]
  },
  {
   "cell_type": "code",
   "execution_count": 10,
   "id": "d46ccd84",
   "metadata": {},
   "outputs": [
    {
     "name": "stdout",
     "output_type": "stream",
     "text": [
      "name 'nn' is not defined: NameError\n",
      "If you got this error you can fix it with the following code:\n",
      "import torch\n",
      "import torch.nn as nn\n",
      "You need to include both lines, since if you set just the second one it may not work if the torch package is not imported.\n",
      "Where torch and torch.nn (or just nn) are two of the main PyTorch packages. You can help(torch.nn) to confirm this.\n",
      "It is not uncommon when you include nn to include the functional interface as F like this:\n",
      "import torch\n",
      "import torch.nn as nn\n",
      "import torch.nn.functional as F\n",
      "To bring you the hints what you imported or what is inside the nn package I provided the list:\n",
      "['AdaptiveAvgPool1d', 'AdaptiveAvgPool2d', 'AdaptiveAvgPool3d', 'AdaptiveLogSoftmaxWithLoss', 'AdaptiveMaxPool1d', 'AdaptiveMaxPool2d', 'AdaptiveMaxPool3d', 'AlphaDropout', 'AvgPool1d', 'AvgPool2d', 'AvgPool3d', 'BCELoss', 'BCEWithLogitsLoss', 'BatchNorm1d', 'BatchNorm2d', 'BatchNorm3d', 'Bilinear', 'CELU', 'CTCLoss', 'ConstantPad1d', 'ConstantPad2d', 'ConstantPad3d', 'Container', 'Conv1d', 'Conv2d', 'Conv3d', 'ConvTranspose1d', 'ConvTranspose2d', 'ConvTranspose3d', 'CosineEmbeddingLoss', 'CosineSimilarity', 'CrossEntropyLoss', 'CrossMapLRN2d', 'DataParallel', 'Dropout', 'Dropout2d', 'Dropout3d', 'ELU', 'Embedding', 'EmbeddingBag', 'FeatureAlphaDropout', 'Fold', 'FractionalMaxPool2d', 'GLU', 'GRU', 'GRUCell', 'GroupNorm', 'Hardshrink', 'Hardtanh', 'HingeEmbeddingLoss', 'InstanceNorm1d', 'InstanceNorm2d', 'InstanceNorm3d', 'KLDivLoss', 'L1Loss', 'LPPool1d', 'LPPool2d', 'LSTM', 'LSTMCell', 'LayerNorm', 'LeakyReLU', 'Linear', 'LocalResponseNorm', 'LogSigmoid', 'LogSoftmax', 'MSELoss', 'MarginRankingLoss', 'MaxPool1d', 'MaxPool2d', 'MaxPool3d', 'MaxUnpool1d', 'MaxUnpool2d', 'MaxUnpool3d', 'Module', 'ModuleDict', 'ModuleList', 'MultiLabelMarginLoss', 'MultiLabelSoftMarginLoss', 'MultiMarginLoss', 'NLLLoss', 'NLLLoss2d', 'PReLU', 'PairwiseDistance', 'Parameter', 'ParameterDict', 'ParameterList', 'PixelShuffle', 'PoissonNLLLoss', 'RNN', 'RNNBase', 'RNNCell', 'RNNCellBase', 'RReLU', 'ReLU', 'ReLU6', 'ReflectionPad1d', 'ReflectionPad2d', 'ReplicationPad1d', 'ReplicationPad2d', 'ReplicationPad3d', 'SELU', 'Sequential', 'Sigmoid', 'SmoothL1Loss', 'SoftMarginLoss', 'Softmax', 'Softmax2d', 'Softmin', 'Softplus', 'Softshrink', 'Softsign', 'Tanh', 'Tanhshrink', 'Threshold', 'TripletMarginLoss', 'Unfold', 'Upsample', 'UpsamplingBilinear2d', 'UpsamplingNearest2d', 'ZeroPad2d', '_VF', '__builtins__', '__cached__', '__doc__', '__file__', '__loader__', '__name__', '__package__', '__path__', '__spec__', '_functions', '_reduction', 'backends', 'functional', 'grad', 'init', 'modules', 'parallel', 'parameter', 'utils']\n",
      "Containing many classes where probable the most fundamental one is the PyTorch class nn.Module.\n",
      "Do not confuse PyTorch class nn.Module with the Python modules.\n",
      "To fix the SLL model from the question you just have to add the first two lines:\n",
      "import torch\n",
      "import torch.nn as nn\n",
      "\n",
      "class SLL(nn.Module):\n",
      "    \"single linear layer\"\n",
      "    def __init__(self):\n",
      "        super().__init__()\n",
      "        self.l1 = nn.Linear(10,100)        \n",
      "\n",
      "    def forward(self)->None: \n",
      "        print(\"SLL:forward\")\n",
      "\n",
      "# we create a module instance m1\n",
      "m1 = SLL()\n",
      "And you will get the output:\n",
      "SLL(\n",
      "  (l1): Linear(in_features=10, out_features=100, bias=True)\n",
      ")\n",
      "\n",
      " The source from this answer is:  https://stackoverflow.com/questions/56633138/nameerror-name-nn-is-not-defined\n"
     ]
    }
   ],
   "source": [
    "#For thge first error we cannot find the mistake because it is not in stackoverflow with that name: \n",
    "#'uniform() got an unexpected keyword argument 'siz': TypeError' \n",
    "\n",
    "#But if we look at the next mistake it is working:\n",
    "\n",
    "command = ('command = nn.random.uniform(-1, 1, size=100)')\n",
    "get_SOS_help(command)"
   ]
  }
 ],
 "metadata": {
  "kernelspec": {
   "display_name": "Python 3 (ipykernel)",
   "language": "python",
   "name": "python3"
  },
  "language_info": {
   "codemirror_mode": {
    "name": "ipython",
    "version": 3
   },
   "file_extension": ".py",
   "mimetype": "text/x-python",
   "name": "python",
   "nbconvert_exporter": "python",
   "pygments_lexer": "ipython3",
   "version": "3.9.13"
  }
 },
 "nbformat": 4,
 "nbformat_minor": 5
}
